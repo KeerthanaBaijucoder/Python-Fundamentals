{
 "cells": [
  {
   "cell_type": "code",
   "execution_count": 1,
   "id": "ea4ea9a7-ca33-46f8-ac88-e4eb3bb3610f",
   "metadata": {},
   "outputs": [
    {
     "name": "stdout",
     "output_type": "stream",
     "text": [
      "Hello\n"
     ]
    }
   ],
   "source": [
    "print(\"Hello\")"
   ]
  },
  {
   "cell_type": "code",
   "execution_count": null,
   "id": "1fe7fd77-4eaa-4410-9981-96b13aa7a945",
   "metadata": {},
   "outputs": [],
   "source": [
    "Exercise 1"
   ]
  },
  {
   "cell_type": "code",
   "execution_count": 3,
   "id": "af78e00d-e5bb-48fb-9da7-b926cd4146a1",
   "metadata": {},
   "outputs": [
    {
     "name": "stdout",
     "output_type": "stream",
     "text": [
      "Keerthana Baiju\n",
      "ST01\n",
      "keerthanabaiju123@gmail.com\n"
     ]
    }
   ],
   "source": [
    "print(\"Keerthana Baiju\")\n",
    "print(\"ST01\")\n",
    "print(\"keerthanabaiju123@gmail.com\")"
   ]
  },
  {
   "cell_type": "code",
   "execution_count": null,
   "id": "ed3991d5-5031-45c1-9a63-364bbb087ce0",
   "metadata": {},
   "outputs": [],
   "source": [
    "Exercise 2"
   ]
  },
  {
   "cell_type": "code",
   "execution_count": 19,
   "id": "2920295f-304b-44c7-a213-bfa4ed53c097",
   "metadata": {},
   "outputs": [
    {
     "name": "stdout",
     "output_type": "stream",
     "text": [
      "Keerthana Baiju\n",
      "ST01\tkeerthanabaiju123@gmail.com\n"
     ]
    }
   ],
   "source": [
    "print(\"Keerthana Baiju\\nST01\\tkeerthanabaiju123@gmail.com\")   # \\n=a new line, \\t=a horizontal tab space"
   ]
  },
  {
   "cell_type": "code",
   "execution_count": null,
   "id": "73db8417-fb98-4bee-904e-bec11dc75286",
   "metadata": {},
   "outputs": [],
   "source": [
    "Exercise 3"
   ]
  },
  {
   "cell_type": "code",
   "execution_count": 15,
   "id": "0f4723ed-bd14-412f-9beb-a2debc38e973",
   "metadata": {},
   "outputs": [
    {
     "name": "stdout",
     "output_type": "stream",
     "text": [
      "16+2= 18\n",
      "16-2= 14\n",
      "16*2= 32\n",
      "16/2= 8.0\n"
     ]
    }
   ],
   "source": [
    "a=16\n",
    "b=2\n",
    "print(\"16+2=\",a+b)\n",
    "print(\"16-2=\",a-b)\n",
    "print(\"16*2=\",a*b)\n",
    "print(\"16/2=\",a/b)"
   ]
  },
  {
   "cell_type": "code",
   "execution_count": null,
   "id": "18aa7477-a331-4a43-b452-e57d9cdaf345",
   "metadata": {},
   "outputs": [],
   "source": [
    "Exercise 4"
   ]
  },
  {
   "cell_type": "code",
   "execution_count": 23,
   "id": "9488b2f2-765a-434e-be2e-d7d3ddebc659",
   "metadata": {},
   "outputs": [
    {
     "name": "stdout",
     "output_type": "stream",
     "text": [
      "1\n",
      "2\n",
      "3\n",
      "4\n",
      "5\n"
     ]
    }
   ],
   "source": [
    "print(\"1\\n2\\n3\\n4\\n5\")"
   ]
  },
  {
   "cell_type": "code",
   "execution_count": 29,
   "id": "7a683195-e7ab-4ef3-b394-ca5ab9f14810",
   "metadata": {},
   "outputs": [
    {
     "name": "stdout",
     "output_type": "stream",
     "text": [
      "\"SDK\" stands for\"Software Development Kit\", whereas\n",
      " \"IDE\" stands for \"Integrated  Development Environment\".\n"
     ]
    }
   ],
   "source": [
    "print(\"\\\"SDK\\\" stands for\\\"Software Development Kit\\\", whereas\\n \\\"IDE\\\" stands for \\\"Integrated  Development Environment\\\".\")\n",
    "# \\\"= includes actual quotes"
   ]
  },
  {
   "cell_type": "code",
   "execution_count": null,
   "id": "29d46771-d599-47cc-a76f-fccfcbef1ec1",
   "metadata": {},
   "outputs": [],
   "source": [
    "Exercise 6"
   ]
  },
  {
   "cell_type": "code",
   "execution_count": 37,
   "id": "0d64bac0-ab30-4456-984d-d223063656ac",
   "metadata": {},
   "outputs": [
    {
     "name": "stdout",
     "output_type": "stream",
     "text": [
      "python is an \"awesome\" language.\n",
      "python\n",
      "\t2023\n",
      "I'm from Entri\n",
      "5\n",
      "e\n",
      "Entri\n",
      "2023\n",
      "Entr2023\n",
      "Entri*202"
     ]
    }
   ],
   "source": [
    "print(\"python is an \\\"awesome\\\" language.\")\n",
    "print(\"python\\n\\t2023\")\n",
    "print('I\\'m from Entri.\\b')\n",
    "print(\"\\65\")\n",
    "print(\"\\x65\")\n",
    "print(\"Entri\", \"2023\", sep=\"\\n\")\n",
    "print(\"Entri\", \"2023\", sep=\"\\b\")\n",
    "print(\"Entri\", \"2023\", sep=\"*\",end=\"\\b\\b\\b\")"
   ]
  },
  {
   "cell_type": "code",
   "execution_count": null,
   "id": "7c37e6cd-cb77-40a8-a65a-88829fcc4f8c",
   "metadata": {},
   "outputs": [],
   "source": [
    "Exercise 7"
   ]
  },
  {
   "cell_type": "code",
   "execution_count": 39,
   "id": "d46832f9-a7d6-482c-bc53-5d35f3db2f52",
   "metadata": {},
   "outputs": [
    {
     "name": "stdout",
     "output_type": "stream",
     "text": [
      "<class 'int'>\n",
      "<class 'str'>\n",
      "<class 'float'>\n",
      "<class 'float'>\n"
     ]
    }
   ],
   "source": [
    "num=23\n",
    "textnum=\"57\"\n",
    "decimal=98.3\n",
    "print(type(num))\n",
    "print(type(textnum))\n",
    "print(type(decimal))\n",
    "print(type(num+int(textnum)+decimal))"
   ]
  },
  {
   "cell_type": "code",
   "execution_count": null,
   "id": "2edfd532-5945-4994-b840-3535b4d1ab96",
   "metadata": {},
   "outputs": [],
   "source": [
    "Exercise 8"
   ]
  },
  {
   "cell_type": "code",
   "execution_count": 41,
   "id": "8b47d960-cb1a-4c30-b164-d725225abc40",
   "metadata": {},
   "outputs": [
    {
     "name": "stdout",
     "output_type": "stream",
     "text": [
      "Days in a year: 365\n",
      "Hours in a day: 24\n",
      "Minutes in an hour: 60\n",
      "Total number of minutes in a year: 525600\n"
     ]
    }
   ],
   "source": [
    "days_in_year = 365\n",
    "hours_in_day = 24\n",
    "minutes_in_hour = 60\n",
    "total_minutes = days_in_year * hours_in_day * minutes_in_hour\n",
    "print(\"Days in a year:\", days_in_year)\n",
    "print(\"Hours in a day:\", hours_in_day)\n",
    "print(\"Minutes in an hour:\", minutes_in_hour)\n",
    "print(\"Total number of minutes in a year:\", total_minutes)"
   ]
  },
  {
   "cell_type": "code",
   "execution_count": null,
   "id": "f7758bbd-0278-4626-a373-7bdfdf2701cb",
   "metadata": {},
   "outputs": [],
   "source": [
    "Exercise 9"
   ]
  },
  {
   "cell_type": "code",
   "execution_count": 7,
   "id": "945bbd55-109e-4b43-8a16-14a2700532b1",
   "metadata": {},
   "outputs": [
    {
     "name": "stdin",
     "output_type": "stream",
     "text": [
      "Please enter your name;  keerthana\n"
     ]
    },
    {
     "name": "stdout",
     "output_type": "stream",
     "text": [
      "Hi keerthana, welcome to python programming :)\n"
     ]
    }
   ],
   "source": [
    "name = input(\"Please enter your name; \")\n",
    "print(f\"Hi {name}, welcome to python programming :)\")"
   ]
  },
  {
   "cell_type": "code",
   "execution_count": null,
   "id": "b02345cf-7cfb-4ce9-ae04-fb56a9ec30d3",
   "metadata": {},
   "outputs": [],
   "source": [
    "Exercise 10"
   ]
  },
  {
   "cell_type": "code",
   "execution_count": 9,
   "id": "b8c09d31-420f-45ff-adb5-52db16d14855",
   "metadata": {},
   "outputs": [
    {
     "name": "stdin",
     "output_type": "stream",
     "text": [
      "Please enter amount in pounds 100\n"
     ]
    },
    {
     "name": "stdout",
     "output_type": "stream",
     "text": [
      "£100 are $132.0\n"
     ]
    }
   ],
   "source": [
    "pou=int(input(\"Please enter amount in pounds\"))\n",
    "print(f\"£{pou} are ${1.32*pou}\")"
   ]
  },
  {
   "cell_type": "code",
   "execution_count": null,
   "id": "8553bb92-c189-4991-afeb-71bc7ad2e059",
   "metadata": {},
   "outputs": [],
   "source": []
  }
 ],
 "metadata": {
  "kernelspec": {
   "display_name": "Python [conda env:base] *",
   "language": "python",
   "name": "conda-base-py"
  },
  "language_info": {
   "codemirror_mode": {
    "name": "ipython",
    "version": 3
   },
   "file_extension": ".py",
   "mimetype": "text/x-python",
   "name": "python",
   "nbconvert_exporter": "python",
   "pygments_lexer": "ipython3",
   "version": "3.12.7"
  }
 },
 "nbformat": 4,
 "nbformat_minor": 5
}
